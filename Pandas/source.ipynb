{
 "cells": [
  {
   "cell_type": "code",
   "execution_count": 10,
   "id": "a8ede297",
   "metadata": {},
   "outputs": [],
   "source": [
    "import pandas as pd"
   ]
  },
  {
   "cell_type": "code",
   "execution_count": 67,
   "id": "f6767389",
   "metadata": {},
   "outputs": [],
   "source": [
    "# Load datasets\n",
    "customers = pd.read_csv(\"datasets/olist_customers_dataset.csv\");\n",
    "order_items = pd.read_csv(\"datasets/olist_order_items_dataset.csv\");\n",
    "order_payments = pd.read_csv(\"datasets/olist_order_payments_dataset.csv\");\n",
    "order_reviews = pd.read_csv(\"datasets/olist_order_reviews_dataset.csv\");\n",
    "orders = pd.read_csv(\"datasets/olist_orders_dataset.csv\");\n",
    "products = pd.read_csv(\"datasets/olist_products_dataset.csv\");\n",
    "sellers = pd.read_csv(\"datasets/olist_sellers_dataset.csv\");"
   ]
  },
  {
   "cell_type": "code",
   "execution_count": 45,
   "id": "173faccb",
   "metadata": {},
   "outputs": [],
   "source": [
    "def drop_duplicates_by_column(df, column_name):\n",
    "    \"\"\"\n",
    "    Drops all rows that have duplicate values in the specified column.\n",
    "    Keeps only the first occurrence of each unique value in the column.\n",
    "    \n",
    "    Args:\n",
    "        df (pandas.DataFrame): The DataFrame from which duplicates will be removed.\n",
    "        column_name (str): The column name to check for duplicates.\n",
    "        \n",
    "    Returns:\n",
    "        pandas.DataFrame: The cleaned DataFrame with duplicates removed.\n",
    "    \"\"\"\n",
    "    before = df.shape[0]  # Rows before dropping duplicates\n",
    "    if (column_name != \"\"):\n",
    "        df = df.drop_duplicates(subset=[column_name], keep='first') # Remove rows with the same primary key\n",
    "    df = df.drop_duplicates() # Remove duplicate rows for all columns combined\n",
    "    after = df.shape[0]  # Rows after dropping duplicates\n",
    "    print(f\"Removed {before - after} duplicates from '{column_name}' column.\")\n",
    "    return df"
   ]
  },
  {
   "cell_type": "code",
   "execution_count": 56,
   "id": "b0ce5dec",
   "metadata": {},
   "outputs": [
    {
     "name": "stdout",
     "output_type": "stream",
     "text": [
      "Customers before: (96096, 5)\n",
      "Removed 0 duplicates from 'customer_unique_id' column.\n",
      "Customers after: (96096, 5)\n"
     ]
    }
   ],
   "source": [
    "print('Customers before: ' + str(customers.shape))\n",
    "customers = drop_duplicates_by_column(customers, 'customer_unique_id');\n",
    "customers = customers.dropna(subset=['customer_unique_id', 'customer_city', 'customer_state', 'customer_zip_code_prefix'])\n",
    "print('Customers after: ' + str(customers.shape))"
   ]
  },
  {
   "cell_type": "code",
   "execution_count": 111,
   "id": "763c2cbe",
   "metadata": {},
   "outputs": [
    {
     "name": "stdout",
     "output_type": "stream",
     "text": [
      "Products before: (32340, 9)\n",
      "Removed 0 duplicates from 'product_id' column.\n",
      "Products after: (32340, 9)\n"
     ]
    }
   ],
   "source": [
    "print('Products before: ' + str(products.shape))\n",
    "\n",
    "products = drop_duplicates_by_column(products, 'product_id');\n",
    "\n",
    "# Remove products without a category or name.\n",
    "products['product_category_name'] = products['product_category_name'].fillna('No Category')\n",
    "products['product_name_lenght'] = products['product_name_lenght'].fillna(0)\n",
    "\n",
    "print('Products after: ' + str(products.shape))"
   ]
  },
  {
   "cell_type": "code",
   "execution_count": 114,
   "id": "68a6a646",
   "metadata": {},
   "outputs": [
    {
     "name": "stdout",
     "output_type": "stream",
     "text": [
      "Removed 0 duplicates from 'seller_id' column.\n"
     ]
    }
   ],
   "source": [
    "sellers = drop_duplicates_by_column(sellers, 'seller_id');\n",
    "sellers['seller_city'] = sellers['seller_city'].fillna('N/A')\n",
    "sellers['seller_zip_code_prefix'] = sellers['seller_zip_code_prefix'].fillna('0000')"
   ]
  },
  {
   "cell_type": "code",
   "execution_count": null,
   "id": "e21986e2",
   "metadata": {},
   "outputs": [],
   "source": [
    "order_payments = drop_duplicates_by_column(order_payments, '');"
   ]
  },
  {
   "cell_type": "code",
   "execution_count": null,
   "id": "74dd7bfb",
   "metadata": {},
   "outputs": [],
   "source": [
    "order_items = drop_duplicates_by_column(order_items, '');"
   ]
  },
  {
   "cell_type": "code",
   "execution_count": 71,
   "id": "156a2ce7",
   "metadata": {},
   "outputs": [
    {
     "name": "stdout",
     "output_type": "stream",
     "text": [
      "Removed 814 duplicates from 'review_id' column.\n"
     ]
    }
   ],
   "source": [
    "order_reviews = drop_duplicates_by_column(order_reviews, 'review_id');\n",
    "order_reviews = order_reviews.dropna(subset=['review_score']);\n",
    "order_reviews['review_comment_title'] = order_reviews['review_comment_title'].fillna('No Title Available')\n",
    "order_reviews['review_comment_message'] = order_reviews['review_comment_message'].fillna('No Comment Available')"
   ]
  },
  {
   "cell_type": "code",
   "execution_count": 62,
   "id": "88791fc6",
   "metadata": {
    "scrolled": true
   },
   "outputs": [
    {
     "name": "stdout",
     "output_type": "stream",
     "text": [
      "Orders before: (96461, 8)\n",
      "Removed 0 duplicates from 'order_id' column.\n",
      "Orders after: (96461, 8)\n"
     ]
    }
   ],
   "source": [
    "print('Orders before: ' + str(orders.shape))\n",
    "\n",
    "orders = drop_duplicates_by_column(orders, 'order_id');\n",
    "\n",
    "# Since we need to calculate the Delivery Time, we need to remove rows missing the following columns: Order Delivered Customer Date, Order Delivered Carrier Date, Order Approved At\n",
    "\n",
    "orders = orders.dropna(subset=['order_purchase_timestamp', 'order_approved_at', 'order_delivered_carrier_date', 'order_delivered_customer_date'])\n",
    "print('Orders after: ' + str(orders.shape))"
   ]
  },
  {
   "cell_type": "code",
   "execution_count": null,
   "id": "a5126426",
   "metadata": {},
   "outputs": [],
   "source": [
    "# 4.2 Creating Calculated Columns"
   ]
  },
  {
   "cell_type": "code",
   "execution_count": 101,
   "id": "82e6ec49",
   "metadata": {},
   "outputs": [
    {
     "name": "stdout",
     "output_type": "stream",
     "text": [
      "                           order_id  order_item_id  \\\n",
      "0  00010242fe8c5a6d1ba2dd792cb16214              1   \n",
      "1  00018f77f2f0320c557190d7a144bdd3              1   \n",
      "2  000229ec398224ef6ca0657da4fc703e              1   \n",
      "3  00024acbcdf0a6daa1e931b038114c75              1   \n",
      "4  00042b26cf59d7ce69dfabb4e55b4fd9              1   \n",
      "\n",
      "                         product_id                         seller_id  \\\n",
      "0  4244733e06e7ecb4970a6e2683c13e61  48436dade18ac8b2bce089ec2a041202   \n",
      "1  e5f2d52b802189ee658865ca93d83a8f  dd7ddc04e1b6c2c614352b383efe2d36   \n",
      "2  c777355d18b72b67abbeef9df44fd0fd  5b51032eddd242adc84c38acab88f23d   \n",
      "3  7634da152a4610f1595efa32f14722fc  9d7a1d34a5052409006425275ba1c2b4   \n",
      "4  ac6c3623068f30de03045865e4e10089  df560393f3a51e74553ab94004ba5c87   \n",
      "\n",
      "   shipping_limit_date   price  freight_value  profit_margin  Total Price  \n",
      "0  2017-09-19 09:45:35   58.90          13.29          45.61        72.19  \n",
      "1  2017-05-03 11:05:13  239.90          19.93         219.97       259.83  \n",
      "2  2018-01-18 14:48:30  199.00          17.87         181.13       216.87  \n",
      "3  2018-08-15 10:10:18   12.99          12.79           0.20        25.78  \n",
      "4  2017-02-13 13:57:51  199.90          18.14         181.76       218.04  \n"
     ]
    }
   ],
   "source": [
    "order_items_with_total = order_items.copy()\n",
    "order_items_with_total['Total Price'] = order_items_with_total['price'] + order_items_with_total['freight_value']\n",
    "\n",
    "print(order_items_with_total.head())"
   ]
  },
  {
   "cell_type": "code",
   "execution_count": 102,
   "id": "0abf4d81",
   "metadata": {},
   "outputs": [
    {
     "name": "stdout",
     "output_type": "stream",
     "text": [
      "                           order_id                       customer_id  \\\n",
      "0  e481f51cbdc54678b7cc49136f2d6af7  9ef432eb6251297304e76186b10a928d   \n",
      "1  53cdb2fc8bc7dce0b6741e2150273451  b0830fb4747a6c6d20dea0b8c802d7ef   \n",
      "2  47770eb9100c2d0c44946d9cf07ec65d  41ce2a54c0b03bf3443c3d931a367089   \n",
      "3  949d5b44dbf5de918fe9c16f97b45f8a  f88197465ea7920adcdbec7375364d82   \n",
      "4  ad21c59c0840e6cb83a9ceb5573f8159  8ab97904e6daea8866dbdbc4fb7aad2c   \n",
      "\n",
      "  order_status order_purchase_timestamp    order_approved_at  \\\n",
      "0    delivered      2017-10-02 10:56:33  2017-10-02 11:07:15   \n",
      "1    delivered      2018-07-24 20:41:37  2018-07-26 03:24:27   \n",
      "2    delivered      2018-08-08 08:38:49  2018-08-08 08:55:23   \n",
      "3    delivered      2017-11-18 19:28:06  2017-11-18 19:45:59   \n",
      "4    delivered      2018-02-13 21:18:39  2018-02-13 22:20:29   \n",
      "\n",
      "  order_delivered_carrier_date order_delivered_customer_date  \\\n",
      "0          2017-10-04 19:55:00           2017-10-10 21:25:13   \n",
      "1          2018-07-26 14:31:00           2018-08-07 15:27:45   \n",
      "2          2018-08-08 13:50:00           2018-08-17 18:06:29   \n",
      "3          2017-11-22 13:39:59           2017-12-02 00:28:42   \n",
      "4          2018-02-14 19:46:34           2018-02-16 18:17:02   \n",
      "\n",
      "  order_estimated_delivery_date  Delivery Time  delivery_time_days  \n",
      "0           2017-10-18 00:00:00            8.0                 8.0  \n",
      "1           2018-08-13 00:00:00           13.0                13.0  \n",
      "2           2018-09-04 00:00:00            9.0                 9.0  \n",
      "3           2017-12-15 00:00:00           13.0                13.0  \n",
      "4           2018-02-26 00:00:00            2.0                 2.0  \n"
     ]
    }
   ],
   "source": [
    "# Create a copy of the orders DataFrame to avoid modifying the original\n",
    "orders_with_delivery_time = orders.copy()\n",
    "\n",
    "# Ensure both columns are in datetime format in the new DataFrame\n",
    "orders_with_delivery_time['order_purchase_timestamp'] = pd.to_datetime(orders_with_delivery_time['order_purchase_timestamp'])\n",
    "orders_with_delivery_time['order_delivered_customer_date'] = pd.to_datetime(orders_with_delivery_time['order_delivered_customer_date'])\n",
    "\n",
    "# Calculate the Delivery Time as the difference between the delivered date and the purchase date\n",
    "orders_with_delivery_time['Delivery Time'] = (orders_with_delivery_time['order_delivered_customer_date'] - orders_with_delivery_time['order_purchase_timestamp']).dt.days\n",
    "\n",
    "print(orders_with_delivery_time.head())"
   ]
  },
  {
   "cell_type": "code",
   "execution_count": 79,
   "id": "877141ac",
   "metadata": {},
   "outputs": [
    {
     "name": "stdout",
     "output_type": "stream",
     "text": [
      "                           order_id  total_payment_installments\n",
      "0  00010242fe8c5a6d1ba2dd792cb16214                           2\n",
      "1  00018f77f2f0320c557190d7a144bdd3                           3\n",
      "2  000229ec398224ef6ca0657da4fc703e                           5\n",
      "3  00024acbcdf0a6daa1e931b038114c75                           2\n",
      "4  00042b26cf59d7ce69dfabb4e55b4fd9                           3\n"
     ]
    }
   ],
   "source": [
    "# Group by 'order_id' and sum the 'payment_installments' for each order\n",
    "payment_count = order_payments.groupby('order_id', as_index=False)['payment_installments'].sum()\n",
    "\n",
    "# Rename column for clarity\n",
    "payment_count.rename(columns={'payment_installments': 'total_payment_installments'}, inplace=True)\n",
    "\n",
    "print(payment_count.head())\n"
   ]
  },
  {
   "cell_type": "code",
   "execution_count": 80,
   "id": "7058198c",
   "metadata": {},
   "outputs": [
    {
     "name": "stdout",
     "output_type": "stream",
     "text": [
      "                           order_id  order_item_id  \\\n",
      "0  00010242fe8c5a6d1ba2dd792cb16214              1   \n",
      "1  00018f77f2f0320c557190d7a144bdd3              1   \n",
      "2  000229ec398224ef6ca0657da4fc703e              1   \n",
      "3  00024acbcdf0a6daa1e931b038114c75              1   \n",
      "4  00042b26cf59d7ce69dfabb4e55b4fd9              1   \n",
      "\n",
      "                         product_id                         seller_id  \\\n",
      "0  4244733e06e7ecb4970a6e2683c13e61  48436dade18ac8b2bce089ec2a041202   \n",
      "1  e5f2d52b802189ee658865ca93d83a8f  dd7ddc04e1b6c2c614352b383efe2d36   \n",
      "2  c777355d18b72b67abbeef9df44fd0fd  5b51032eddd242adc84c38acab88f23d   \n",
      "3  7634da152a4610f1595efa32f14722fc  9d7a1d34a5052409006425275ba1c2b4   \n",
      "4  ac6c3623068f30de03045865e4e10089  df560393f3a51e74553ab94004ba5c87   \n",
      "\n",
      "   shipping_limit_date   price  freight_value  profit_margin  \n",
      "0  2017-09-19 09:45:35   58.90          13.29          45.61  \n",
      "1  2017-05-03 11:05:13  239.90          19.93         219.97  \n",
      "2  2018-01-18 14:48:30  199.00          17.87         181.13  \n",
      "3  2018-08-15 10:10:18   12.99          12.79           0.20  \n",
      "4  2017-02-13 13:57:51  199.90          18.14         181.76  \n"
     ]
    }
   ],
   "source": [
    "order_items['profit_margin'] = order_items['price'] - order_items['freight_value']\n",
    "\n",
    "print(order_items.head())"
   ]
  },
  {
   "cell_type": "code",
   "execution_count": 91,
   "id": "88476897",
   "metadata": {},
   "outputs": [
    {
     "name": "stdout",
     "output_type": "stream",
     "text": [
      "                               order_id                       customer_id  \\\n",
      "0      e481f51cbdc54678b7cc49136f2d6af7  9ef432eb6251297304e76186b10a928d   \n",
      "1      53cdb2fc8bc7dce0b6741e2150273451  b0830fb4747a6c6d20dea0b8c802d7ef   \n",
      "2      47770eb9100c2d0c44946d9cf07ec65d  41ce2a54c0b03bf3443c3d931a367089   \n",
      "3      949d5b44dbf5de918fe9c16f97b45f8a  f88197465ea7920adcdbec7375364d82   \n",
      "4      ad21c59c0840e6cb83a9ceb5573f8159  8ab97904e6daea8866dbdbc4fb7aad2c   \n",
      "...                                 ...                               ...   \n",
      "98661  9c5dedf39a927c1b2549525ed64a053c  39bd1228ee8140590ac3aca26f2dfe00   \n",
      "98662  63943bddc261676b46f01ca7ac2f7bd8  1fca14ff2861355f6e5f14306ff977a7   \n",
      "98663  83c1379a015df1e13d02aae0204711ab  1aa71eb042121263aafbe80c1b562c9c   \n",
      "98664  11c177c8e97725db2631073c19f07b62  b331b74b18dc79bcdf6532d51e1637c1   \n",
      "98665  66dea50a8b16d9b4dee7af250b4be1a5  edb027a75a1449115f6b43211ae02a24   \n",
      "\n",
      "      order_status order_purchase_timestamp    order_approved_at  \\\n",
      "0        delivered      2017-10-02 10:56:33  2017-10-02 11:07:15   \n",
      "1        delivered      2018-07-24 20:41:37  2018-07-26 03:24:27   \n",
      "2        delivered      2018-08-08 08:38:49  2018-08-08 08:55:23   \n",
      "3        delivered      2017-11-18 19:28:06  2017-11-18 19:45:59   \n",
      "4        delivered      2018-02-13 21:18:39  2018-02-13 22:20:29   \n",
      "...            ...                      ...                  ...   \n",
      "98661    delivered      2017-03-09 09:54:05  2017-03-09 09:54:05   \n",
      "98662    delivered      2018-02-06 12:58:58  2018-02-06 13:10:37   \n",
      "98663    delivered      2017-08-27 14:46:43  2017-08-27 15:04:16   \n",
      "98664    delivered      2018-01-08 21:28:27  2018-01-08 21:36:21   \n",
      "98665    delivered      2018-03-08 20:57:30  2018-03-09 11:20:28   \n",
      "\n",
      "      order_delivered_carrier_date order_delivered_customer_date  \\\n",
      "0              2017-10-04 19:55:00           2017-10-10 21:25:13   \n",
      "1              2018-07-26 14:31:00           2018-08-07 15:27:45   \n",
      "2              2018-08-08 13:50:00           2018-08-17 18:06:29   \n",
      "3              2017-11-22 13:39:59           2017-12-02 00:28:42   \n",
      "4              2018-02-14 19:46:34           2018-02-16 18:17:02   \n",
      "...                            ...                           ...   \n",
      "98661          2017-03-10 11:18:03           2017-03-17 15:08:01   \n",
      "98662          2018-02-07 23:22:42           2018-02-28 17:37:56   \n",
      "98663          2017-08-28 20:52:26           2017-09-21 11:24:17   \n",
      "98664          2018-01-12 15:35:03           2018-01-25 23:32:54   \n",
      "98665          2018-03-09 22:11:59           2018-03-16 13:08:30   \n",
      "\n",
      "      order_estimated_delivery_date  Delivery Time   price  \\\n",
      "0               2017-10-18 00:00:00            8.0   29.99   \n",
      "1               2018-08-13 00:00:00           13.0  118.70   \n",
      "2               2018-09-04 00:00:00            9.0  159.90   \n",
      "3               2017-12-15 00:00:00           13.0   45.00   \n",
      "4               2018-02-26 00:00:00            2.0   19.90   \n",
      "...                             ...            ...     ...   \n",
      "98661           2017-03-28 00:00:00            8.0   72.00   \n",
      "98662           2018-03-02 00:00:00           22.0  174.90   \n",
      "98663           2017-09-27 00:00:00           24.0  205.99   \n",
      "98664           2018-02-15 00:00:00           17.0  359.98   \n",
      "98665           2018-04-03 00:00:00            7.0   68.50   \n",
      "\n",
      "       total_sales_per_customer  \n",
      "0                         29.99  \n",
      "1                        118.70  \n",
      "2                        159.90  \n",
      "3                         45.00  \n",
      "4                         19.90  \n",
      "...                         ...  \n",
      "98661                     72.00  \n",
      "98662                    174.90  \n",
      "98663                    205.99  \n",
      "98664                    359.98  \n",
      "98665                     68.50  \n",
      "\n",
      "[98666 rows x 11 columns]\n"
     ]
    }
   ],
   "source": [
    "# 4.3: Total sales per customer, total of product prices for each customers orders\n",
    "# Aggregate order_items at the order_id level\n",
    "order_totals = order_items.groupby('order_id', as_index=False)['price'].sum()\n",
    "\n",
    "# Merge with orders to get customer_id\n",
    "merged = orders.merge(order_totals, on='order_id')\n",
    "\n",
    "# Compute the cumulative total per customer\n",
    "merged['total_sales_per_customer'] = merged.groupby('customer_id')['price'].cumsum()\n",
    "\n",
    "# Display result\n",
    "print(merged)\n",
    "\n",
    "# Index no: 98664: order_id 11c177c8e97725db2631073c19f07b62 has 2 orders with each price being 179.99, cumulative sum is shown 359.98"
   ]
  },
  {
   "cell_type": "code",
   "execution_count": 93,
   "id": "2e69cccb",
   "metadata": {},
   "outputs": [
    {
     "name": "stdout",
     "output_type": "stream",
     "text": [
      "                                order_id  order_item_id  \\\n",
      "0       00010242fe8c5a6d1ba2dd792cb16214              1   \n",
      "1       130898c0987d1801452a8ed92a670612              1   \n",
      "2       532ed5e14e24ae1f0d735b91524b98b9              1   \n",
      "3       6f8c31653edb8c83e1a739408b5ff750              1   \n",
      "4       7d19f4ef4d04461989632411b7e588b9              1   \n",
      "...                                  ...            ...   \n",
      "111041  ffebd80e3291e811c308365936897efd              1   \n",
      "111042  ffee31fb4b5e35c9123608015637c495              1   \n",
      "111043  fff7c4452f050315db1b3f24d9df5fcd              1   \n",
      "111044  fffa82886406ccf10c7b4e35c4ff2788              1   \n",
      "111045  fffe41c64501cc87c801fd61db3f6244              1   \n",
      "\n",
      "                              product_id                         seller_id  \\\n",
      "0       4244733e06e7ecb4970a6e2683c13e61  48436dade18ac8b2bce089ec2a041202   \n",
      "1       4244733e06e7ecb4970a6e2683c13e61  48436dade18ac8b2bce089ec2a041202   \n",
      "2       4244733e06e7ecb4970a6e2683c13e61  48436dade18ac8b2bce089ec2a041202   \n",
      "3       4244733e06e7ecb4970a6e2683c13e61  48436dade18ac8b2bce089ec2a041202   \n",
      "4       4244733e06e7ecb4970a6e2683c13e61  48436dade18ac8b2bce089ec2a041202   \n",
      "...                                  ...                               ...   \n",
      "111041  4cc4d02efc8f249c13355147fb44e34d  d1c7fa84e48cfa21a0e595167c1c500e   \n",
      "111042  b10ecf8e33aaaea419a9fa860ea80fb5  0241d4d5d36f10f80c644447315af0bd   \n",
      "111043  dd469c03ad67e201bc2179ef077dcd48  7e93a43ef30c4f03f38b393420bc753a   \n",
      "111044  bbe7651fef80287a816ead73f065fc4b  8f2ce03f928b567e3d56181ae20ae952   \n",
      "111045  350688d9dc1e75ff97be326363655e01  f7ccf836d21b2fb1de37564105216cc1   \n",
      "\n",
      "        shipping_limit_date  price  freight_value  profit_margin  Total Price  \\\n",
      "0       2017-09-19 09:45:35   58.9          13.29          45.61        72.19   \n",
      "1       2017-07-05 02:44:11   55.9          17.96          37.94        73.86   \n",
      "2       2018-05-23 10:56:25   64.9          18.33          46.57        83.23   \n",
      "3       2017-08-07 18:55:08   58.9          16.17          42.73        75.07   \n",
      "4       2017-08-16 22:05:11   58.9          13.29          45.61        72.19   \n",
      "...                     ...    ...            ...            ...          ...   \n",
      "111041  2018-07-18 20:23:55  129.9          51.20          78.70       181.10   \n",
      "111042  2018-08-21 10:10:11   99.0          13.52          85.48       112.52   \n",
      "111043  2017-06-07 17:05:23  736.0          20.91         715.09       756.91   \n",
      "111044  2017-12-22 17:31:42  229.9          44.02         185.88       273.92   \n",
      "111045  2018-06-12 17:10:13   43.0          12.79          30.21        55.79   \n",
      "\n",
      "        delivery_time_days product_category_name  product_name_lenght  \\\n",
      "0                      7.0            cool_stuff                 58.0   \n",
      "1                     15.0            cool_stuff                 58.0   \n",
      "2                     17.0            cool_stuff                 58.0   \n",
      "3                      8.0            cool_stuff                 58.0   \n",
      "4                     13.0            cool_stuff                 58.0   \n",
      "...                    ...                   ...                  ...   \n",
      "111041                 9.0    ferramentas_jardim                 37.0   \n",
      "111042                 3.0      moveis_decoracao                 30.0   \n",
      "111043                 6.0    relogios_presentes                 33.0   \n",
      "111044                21.0         esporte_lazer                 32.0   \n",
      "111045                 5.0       cama_mesa_banho                 47.0   \n",
      "\n",
      "        product_description_lenght  product_photos_qty  product_weight_g  \\\n",
      "0                            598.0                 4.0             650.0   \n",
      "1                            598.0                 4.0             650.0   \n",
      "2                            598.0                 4.0             650.0   \n",
      "3                            598.0                 4.0             650.0   \n",
      "4                            598.0                 4.0             650.0   \n",
      "...                            ...                 ...               ...   \n",
      "111041                       653.0                 1.0            6700.0   \n",
      "111042                       308.0                 1.0            2300.0   \n",
      "111043                       658.0                 3.0             400.0   \n",
      "111044                       280.0                 2.0            2700.0   \n",
      "111045                       511.0                 1.0             600.0   \n",
      "\n",
      "        product_length_cm  product_height_cm  product_width_cm  \\\n",
      "0                    28.0                9.0              14.0   \n",
      "1                    28.0                9.0              14.0   \n",
      "2                    28.0                9.0              14.0   \n",
      "3                    28.0                9.0              14.0   \n",
      "4                    28.0                9.0              14.0   \n",
      "...                   ...                ...               ...   \n",
      "111041               35.0               12.0              22.0   \n",
      "111042               37.0               30.0              20.0   \n",
      "111043               19.0                9.0              15.0   \n",
      "111044               60.0               15.0              15.0   \n",
      "111045               30.0                3.0              19.0   \n",
      "\n",
      "        rolling_avg_delivery_time  \n",
      "0                        7.000000  \n",
      "1                       11.000000  \n",
      "2                       13.000000  \n",
      "3                       13.333333  \n",
      "4                       12.666667  \n",
      "...                           ...  \n",
      "111041                   7.333333  \n",
      "111042                   6.666667  \n",
      "111043                  12.333333  \n",
      "111044                  25.333333  \n",
      "111045                  11.333333  \n",
      "\n",
      "[111046 rows x 19 columns]\n"
     ]
    }
   ],
   "source": [
    "# Average Delivery Time from the moment a customer places an order to when it is delivered to their house\n",
    "# Convert timestamps to datetime format\n",
    "orders['order_purchase_timestamp'] = pd.to_datetime(orders['order_purchase_timestamp'])\n",
    "orders['order_delivered_customer_date'] = pd.to_datetime(orders['order_delivered_customer_date'])\n",
    "\n",
    "# Calculate Delivery Time\n",
    "orders['delivery_time_days'] = (orders['order_delivered_customer_date'] - orders['order_purchase_timestamp']).dt.days\n",
    "\n",
    "# Merge all datasets to get category\n",
    "merged = order_items.merge(orders[['order_id', 'delivery_time_days']], on='order_id').merge(products, on='product_id')\n",
    "\n",
    "# Compute rolling average of delivery time per product category\n",
    "merged['rolling_avg_delivery_time'] = merged.groupby('product_category_name')['delivery_time_days'].rolling(window=3, min_periods=1).mean().reset_index(0, drop=True)\n",
    "\n",
    "print(merged)"
   ]
  },
  {
   "cell_type": "code",
   "execution_count": 109,
   "id": "596b7a5f",
   "metadata": {},
   "outputs": [
    {
     "name": "stdout",
     "output_type": "stream",
     "text": [
      "                           order_id  order_item_id  \\\n",
      "0  00010242fe8c5a6d1ba2dd792cb16214              1   \n",
      "1  00018f77f2f0320c557190d7a144bdd3              1   \n",
      "2  000229ec398224ef6ca0657da4fc703e              1   \n",
      "3  00024acbcdf0a6daa1e931b038114c75              1   \n",
      "4  00042b26cf59d7ce69dfabb4e55b4fd9              1   \n",
      "\n",
      "                         product_id                         seller_id  \\\n",
      "0  4244733e06e7ecb4970a6e2683c13e61  48436dade18ac8b2bce089ec2a041202   \n",
      "1  e5f2d52b802189ee658865ca93d83a8f  dd7ddc04e1b6c2c614352b383efe2d36   \n",
      "2  c777355d18b72b67abbeef9df44fd0fd  5b51032eddd242adc84c38acab88f23d   \n",
      "3  7634da152a4610f1595efa32f14722fc  9d7a1d34a5052409006425275ba1c2b4   \n",
      "4  ac6c3623068f30de03045865e4e10089  df560393f3a51e74553ab94004ba5c87   \n",
      "\n",
      "   shipping_limit_date   price  freight_value  profit_margin  Total Price  \\\n",
      "0  2017-09-19 09:45:35   58.90          13.29          45.61        72.19   \n",
      "1  2017-05-03 11:05:13  239.90          19.93         219.97       259.83   \n",
      "2  2018-01-18 14:48:30  199.00          17.87         181.13       216.87   \n",
      "3  2018-08-15 10:10:18   12.99          12.79           0.20        25.78   \n",
      "4  2017-02-13 13:57:51  199.90          18.14         181.76       218.04   \n",
      "\n",
      "   total_price  delivery_time                       customer_id  \\\n",
      "0        72.19            7.0  3ce436f183e68e07877b285a838db11a   \n",
      "1       259.83           16.0  f6dd3ec061db4e3987629fe6b26e5cce   \n",
      "2       216.87            7.0  6489ae5e4333f3693df5ad4372dab6d3   \n",
      "3        25.78            6.0  d4eb9395c8c0431ee92fce09860c5a06   \n",
      "4       218.04           25.0  58dbd0b2d70206bf40e62cd34e84d795   \n",
      "\n",
      "   total_payment_installments  \n",
      "0                         2.0  \n",
      "1                         3.0  \n",
      "2                         5.0  \n",
      "3                         2.0  \n",
      "4                         3.0  \n"
     ]
    }
   ],
   "source": [
    "# 4.4 Creating a fact table\n",
    "# 1. Total Price: price + freight_value\n",
    "order_items['total_price'] = order_items['price'] + order_items['freight_value']\n",
    "\n",
    "# 2. Calculate Delivery Time\n",
    "orders['order_purchase_timestamp'] = pd.to_datetime(orders['order_purchase_timestamp'])\n",
    "orders['order_delivered_customer_date'] = pd.to_datetime(orders['order_delivered_customer_date'])\n",
    "orders['delivery_time'] = (orders['order_delivered_customer_date'] - orders['order_purchase_timestamp']).dt.days\n",
    "\n",
    "\n",
    "# 3. Payment Count (Total Payment Installments for each order)\n",
    "payment_count = order_payments.groupby('order_id', as_index=False)['payment_installments'].sum()\n",
    "payment_count.rename(columns={'payment_installments': 'total_payment_installments'}, inplace=True)\n",
    "\n",
    "# Merge order_items with orders and payment_count\n",
    "fact_table = order_items.copy()\n",
    "fact_table = fact_table.merge(orders[['order_id', 'delivery_time', 'customer_id']], on='order_id', how='left') \\\n",
    "                .merge(payment_count[['order_id', 'total_payment_installments']], on='order_id', how='left')\n",
    "\n",
    "# 4. Profit Margin: price - freight_value\n",
    "fact_table['profit_margin'] = order_items.groupby('order_id')['price'].transform('sum') - order_items.groupby('order_id')['freight_value'].transform('sum')\n",
    "\n",
    "# Now, 'fact_table' contains only the `order_id` and the four calculated columns.\n",
    "#fact_table = fact_table[['order_id', 'Total Price', 'Delivery Time', 'total_payment_installments', 'Profit Margin']]\n",
    "\n",
    "# Display the final fact table\n",
    "print(fact_table.head())"
   ]
  },
  {
   "cell_type": "code",
   "execution_count": 97,
   "id": "2ce7e81a",
   "metadata": {},
   "outputs": [
    {
     "name": "stdout",
     "output_type": "stream",
     "text": [
      "                           order_id order_purchase_timestamp  \\\n",
      "0  e481f51cbdc54678b7cc49136f2d6af7      2017-10-02 10:56:33   \n",
      "1  53cdb2fc8bc7dce0b6741e2150273451      2018-07-24 20:41:37   \n",
      "2  47770eb9100c2d0c44946d9cf07ec65d      2018-08-08 08:38:49   \n",
      "3  949d5b44dbf5de918fe9c16f97b45f8a      2017-11-18 19:28:06   \n",
      "4  ad21c59c0840e6cb83a9ceb5573f8159      2018-02-13 21:18:39   \n",
      "\n",
      "  order_delivered_customer_date  \n",
      "0           2017-10-10 21:25:13  \n",
      "1           2018-08-07 15:27:45  \n",
      "2           2018-08-17 18:06:29  \n",
      "3           2017-12-02 00:28:42  \n",
      "4           2018-02-16 18:17:02  \n"
     ]
    }
   ],
   "source": [
    "# The only dimension table needed is for Date\n",
    "date_dim = pd.DataFrame();\n",
    "# Keep the full timestamp for both order purchase and delivery date\n",
    "date_dim['order_id'] = orders['order_id']\n",
    "date_dim['order_purchase_timestamp'] = orders['order_purchase_timestamp']\n",
    "date_dim['order_delivered_customer_date'] = orders['order_delivered_customer_date']\n",
    "\n",
    "# Display the Date Dimension table\n",
    "print(date_dim.head())"
   ]
  },
  {
   "cell_type": "code",
   "execution_count": 106,
   "id": "7e45871d",
   "metadata": {},
   "outputs": [
    {
     "name": "stdout",
     "output_type": "stream",
     "text": [
      "DataFrames saved to SQL Server successfully.\n"
     ]
    }
   ],
   "source": [
    "from sqlalchemy import create_engine\n",
    "\n",
    "server = 'DESKTOP-O24039G' \n",
    "database = 'de'\n",
    "username = ''\n",
    "password = ''\n",
    "\n",
    "connection_string = f\"mssql+pyodbc://{username}:{password}@{server}/{database}?driver=ODBC+Driver+17+for+SQL+Server\"\n",
    "engine = create_engine(connection_string)\n",
    "\n",
    "# Save DataFrames to SQL Server\n",
    "customers.to_sql('customers', con=engine, if_exists='replace', index=False)\n",
    "products.to_sql('products', con=engine, if_exists='replace', index=False)\n",
    "sellers.to_sql('sellers', con=engine, if_exists='replace', index=False)\n",
    "date_dim.to_sql('date', con=engine, if_exists='replace', index=False)\n",
    "fact_table.to_sql('orders', con=engine, if_exists='replace', index=False)\n",
    "\n",
    "\n",
    "print(\"DataFrames saved to SQL Server successfully.\")"
   ]
  },
  {
   "cell_type": "code",
   "execution_count": 110,
   "id": "edfec6ea",
   "metadata": {},
   "outputs": [
    {
     "data": {
      "text/plain": [
       "-1"
      ]
     },
     "execution_count": 110,
     "metadata": {},
     "output_type": "execute_result"
    }
   ],
   "source": []
  }
 ],
 "metadata": {
  "kernelspec": {
   "display_name": "Python 3 (ipykernel)",
   "language": "python",
   "name": "python3"
  },
  "language_info": {
   "codemirror_mode": {
    "name": "ipython",
    "version": 3
   },
   "file_extension": ".py",
   "mimetype": "text/x-python",
   "name": "python",
   "nbconvert_exporter": "python",
   "pygments_lexer": "ipython3",
   "version": "3.11.5"
  }
 },
 "nbformat": 4,
 "nbformat_minor": 5
}
